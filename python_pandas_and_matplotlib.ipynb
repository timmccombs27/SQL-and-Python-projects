{
 "cells": [
  {
   "cell_type": "markdown",
   "id": "3aaacf92",
   "metadata": {},
   "source": [
    "## Load .csv file"
   ]
  },
  {
   "cell_type": "code",
   "execution_count": 26,
   "id": "15f8391b",
   "metadata": {},
   "outputs": [],
   "source": [
    "import pandas as pd\n",
    "filename = 'https://frostlor-cdn-prod.courses.csuglobal.edu/lor/resources/src/d1290f0a-1fd2-384d-83df-710b62725186/MIS542titanic.csv'\n",
    "titanic_df = pd.read_csv(filename)"
   ]
  },
  {
   "cell_type": "code",
   "execution_count": 3,
   "id": "041c76b7",
   "metadata": {},
   "outputs": [
    {
     "data": {
      "text/html": [
       "<div>\n",
       "<style scoped>\n",
       "    .dataframe tbody tr th:only-of-type {\n",
       "        vertical-align: middle;\n",
       "    }\n",
       "\n",
       "    .dataframe tbody tr th {\n",
       "        vertical-align: top;\n",
       "    }\n",
       "\n",
       "    .dataframe thead th {\n",
       "        text-align: right;\n",
       "    }\n",
       "</style>\n",
       "<table border=\"1\" class=\"dataframe\">\n",
       "  <thead>\n",
       "    <tr style=\"text-align: right;\">\n",
       "      <th></th>\n",
       "      <th>Survived</th>\n",
       "      <th>Passenger Class</th>\n",
       "      <th>Name</th>\n",
       "      <th>Sex</th>\n",
       "      <th>Age</th>\n",
       "      <th>Siblings/Spouses Aboard</th>\n",
       "      <th>Parents/Children Aboard</th>\n",
       "      <th>Fare in British Pounds</th>\n",
       "    </tr>\n",
       "  </thead>\n",
       "  <tbody>\n",
       "    <tr>\n",
       "      <th>0</th>\n",
       "      <td>0</td>\n",
       "      <td>3</td>\n",
       "      <td>Mr. Owen Harris Braund</td>\n",
       "      <td>male</td>\n",
       "      <td>22.0</td>\n",
       "      <td>1</td>\n",
       "      <td>0</td>\n",
       "      <td>7.2500</td>\n",
       "    </tr>\n",
       "    <tr>\n",
       "      <th>1</th>\n",
       "      <td>1</td>\n",
       "      <td>1</td>\n",
       "      <td>Mrs. John Bradley (Florence Briggs Thayer) Cum...</td>\n",
       "      <td>female</td>\n",
       "      <td>38.0</td>\n",
       "      <td>1</td>\n",
       "      <td>0</td>\n",
       "      <td>71.2833</td>\n",
       "    </tr>\n",
       "    <tr>\n",
       "      <th>2</th>\n",
       "      <td>1</td>\n",
       "      <td>3</td>\n",
       "      <td>Miss. Laina Heikkinen</td>\n",
       "      <td>female</td>\n",
       "      <td>26.0</td>\n",
       "      <td>0</td>\n",
       "      <td>0</td>\n",
       "      <td>7.9250</td>\n",
       "    </tr>\n",
       "    <tr>\n",
       "      <th>3</th>\n",
       "      <td>1</td>\n",
       "      <td>1</td>\n",
       "      <td>Mrs. Jacques Heath (Lily May Peel) Futrelle</td>\n",
       "      <td>female</td>\n",
       "      <td>35.0</td>\n",
       "      <td>1</td>\n",
       "      <td>0</td>\n",
       "      <td>53.1000</td>\n",
       "    </tr>\n",
       "    <tr>\n",
       "      <th>4</th>\n",
       "      <td>0</td>\n",
       "      <td>3</td>\n",
       "      <td>Mr. William Henry Allen</td>\n",
       "      <td>male</td>\n",
       "      <td>35.0</td>\n",
       "      <td>0</td>\n",
       "      <td>0</td>\n",
       "      <td>8.0500</td>\n",
       "    </tr>\n",
       "  </tbody>\n",
       "</table>\n",
       "</div>"
      ],
      "text/plain": [
       "   Survived  Passenger Class  \\\n",
       "0         0                3   \n",
       "1         1                1   \n",
       "2         1                3   \n",
       "3         1                1   \n",
       "4         0                3   \n",
       "\n",
       "                                                Name     Sex   Age  \\\n",
       "0                             Mr. Owen Harris Braund    male  22.0   \n",
       "1  Mrs. John Bradley (Florence Briggs Thayer) Cum...  female  38.0   \n",
       "2                              Miss. Laina Heikkinen  female  26.0   \n",
       "3        Mrs. Jacques Heath (Lily May Peel) Futrelle  female  35.0   \n",
       "4                            Mr. William Henry Allen    male  35.0   \n",
       "\n",
       "   Siblings/Spouses Aboard  Parents/Children Aboard  Fare in British Pounds  \n",
       "0                        1                        0                  7.2500  \n",
       "1                        1                        0                 71.2833  \n",
       "2                        0                        0                  7.9250  \n",
       "3                        1                        0                 53.1000  \n",
       "4                        0                        0                  8.0500  "
      ]
     },
     "execution_count": 3,
     "metadata": {},
     "output_type": "execute_result"
    }
   ],
   "source": [
    "titanic_df.head()"
   ]
  },
  {
   "cell_type": "markdown",
   "id": "94bee4dd",
   "metadata": {},
   "source": [
    "## What was the average cost in U.S. dollars of a first-class ticket?"
   ]
  },
  {
   "cell_type": "code",
   "execution_count": 28,
   "id": "e314a527",
   "metadata": {},
   "outputs": [],
   "source": [
    "first_class = titanic_df['Passenger Class']==1"
   ]
  },
  {
   "cell_type": "code",
   "execution_count": 28,
   "id": "988b51a9",
   "metadata": {},
   "outputs": [],
   "source": [
    "filter_fares = titanic_df['Fare in British Pounds']>0"
   ]
  },
  {
   "cell_type": "code",
   "execution_count": 29,
   "id": "d5d6c62d",
   "metadata": {},
   "outputs": [],
   "source": [
    "df_a = titanic_df.loc[first_class & filter_fares, :]"
   ]
  },
  {
   "cell_type": "code",
   "execution_count": 30,
   "id": "dd9006f7",
   "metadata": {},
   "outputs": [],
   "source": [
    "average_in_pounds = df_a['Fare in British Pounds'].mean()"
   ]
  },
  {
   "cell_type": "code",
   "execution_count": 31,
   "id": "4de68744",
   "metadata": {},
   "outputs": [],
   "source": [
    "average_in_dollars = average_in_pounds*1.28"
   ]
  },
  {
   "cell_type": "code",
   "execution_count": 32,
   "id": "1d96c994",
   "metadata": {},
   "outputs": [
    {
     "data": {
      "text/plain": [
       "110.27"
      ]
     },
     "execution_count": 32,
     "metadata": {},
     "output_type": "execute_result"
    }
   ],
   "source": [
    "round(average_in_dollars, 2)"
   ]
  },
  {
   "cell_type": "markdown",
   "id": "9dc60274",
   "metadata": {},
   "source": [
    "## How many passengers over 20 had siblings onboard?"
   ]
  },
  {
   "cell_type": "code",
   "execution_count": 9,
   "id": "1feb57a5",
   "metadata": {},
   "outputs": [],
   "source": [
    "age_filter = titanic_df['Age']>20"
   ]
  },
  {
   "cell_type": "code",
   "execution_count": 11,
   "id": "3109003c",
   "metadata": {},
   "outputs": [],
   "source": [
    "sibling_filter = titanic_df['Siblings/Spouses Aboard']>1"
   ]
  },
  {
   "cell_type": "code",
   "execution_count": 12,
   "id": "72215b54",
   "metadata": {},
   "outputs": [],
   "source": [
    "df_b = titanic_df.loc[age_filter & sibling_filter, :]"
   ]
  },
  {
   "cell_type": "code",
   "execution_count": 13,
   "id": "fe8999e2",
   "metadata": {},
   "outputs": [
    {
     "data": {
      "text/plain": [
       "23"
      ]
     },
     "execution_count": 13,
     "metadata": {},
     "output_type": "execute_result"
    }
   ],
   "source": [
    "df_b['Age'].count()"
   ]
  },
  {
   "cell_type": "markdown",
   "id": "c53fe477",
   "metadata": {},
   "source": [
    "## What was the median age of those who did not survive?"
   ]
  },
  {
   "cell_type": "code",
   "execution_count": 14,
   "id": "f4268e17",
   "metadata": {},
   "outputs": [],
   "source": [
    "died = titanic_df['Survived']==0"
   ]
  },
  {
   "cell_type": "code",
   "execution_count": 15,
   "id": "1805794c",
   "metadata": {},
   "outputs": [],
   "source": [
    "df_c = titanic_df.loc[died, :]"
   ]
  },
  {
   "cell_type": "code",
   "execution_count": 16,
   "id": "3057c15d",
   "metadata": {},
   "outputs": [],
   "source": [
    "median_age = df_c['Age'].median()"
   ]
  },
  {
   "cell_type": "code",
   "execution_count": 17,
   "id": "ef8b78b7",
   "metadata": {},
   "outputs": [
    {
     "data": {
      "text/plain": [
       "28.0"
      ]
     },
     "execution_count": 17,
     "metadata": {},
     "output_type": "execute_result"
    }
   ],
   "source": [
    "median_age"
   ]
  },
  {
   "cell_type": "markdown",
   "id": "f27b8efc",
   "metadata": {},
   "source": [
    "## How many on the passenger list were male and how many were female?"
   ]
  },
  {
   "cell_type": "code",
   "execution_count": 18,
   "id": "b4f6d0f4",
   "metadata": {},
   "outputs": [
    {
     "data": {
      "text/plain": [
       "male      573\n",
       "female    314\n",
       "Name: Sex, dtype: int64"
      ]
     },
     "execution_count": 18,
     "metadata": {},
     "output_type": "execute_result"
    }
   ],
   "source": [
    "titanic_df['Sex'].value_counts()"
   ]
  },
  {
   "cell_type": "markdown",
   "id": "3a995d8d",
   "metadata": {},
   "source": [
    "## What was the total fare in dollars?"
   ]
  },
  {
   "cell_type": "code",
   "execution_count": 20,
   "id": "a9eb7ee1",
   "metadata": {},
   "outputs": [],
   "source": [
    "fare_sum = titanic_df['Fare in British Pounds'].sum()"
   ]
  },
  {
   "cell_type": "code",
   "execution_count": 21,
   "id": "47fd94e7",
   "metadata": {},
   "outputs": [],
   "source": [
    "fare_sum_dollars = fare_sum * 1.28"
   ]
  },
  {
   "cell_type": "code",
   "execution_count": 22,
   "id": "b12ba376",
   "metadata": {},
   "outputs": [
    {
     "data": {
      "text/plain": [
       "36678.28"
      ]
     },
     "execution_count": 22,
     "metadata": {},
     "output_type": "execute_result"
    }
   ],
   "source": [
    "round(fare_sum_dollars,2)"
   ]
  },
  {
   "cell_type": "markdown",
   "id": "b7b0ee92",
   "metadata": {},
   "source": [
    "## How many passengers have the name of Henry?"
   ]
  },
  {
   "cell_type": "code",
   "execution_count": 25,
   "id": "7a58e020",
   "metadata": {},
   "outputs": [],
   "source": [
    "henry = titanic_df['Name'].str.contains('Henry')"
   ]
  },
  {
   "cell_type": "code",
   "execution_count": 26,
   "id": "2b9445c3",
   "metadata": {},
   "outputs": [],
   "source": [
    "df_d = titanic_df.loc[henry, :]"
   ]
  },
  {
   "cell_type": "code",
   "execution_count": 26,
   "id": "17e36bfa",
   "metadata": {},
   "outputs": [
    {
     "data": {
      "text/html": [
       "<div>\n",
       "<style scoped>\n",
       "    .dataframe tbody tr th:only-of-type {\n",
       "        vertical-align: middle;\n",
       "    }\n",
       "\n",
       "    .dataframe tbody tr th {\n",
       "        vertical-align: top;\n",
       "    }\n",
       "\n",
       "    .dataframe thead th {\n",
       "        text-align: right;\n",
       "    }\n",
       "</style>\n",
       "<table border=\"1\" class=\"dataframe\">\n",
       "  <thead>\n",
       "    <tr style=\"text-align: right;\">\n",
       "      <th></th>\n",
       "      <th>Survived</th>\n",
       "      <th>Passenger Class</th>\n",
       "      <th>Name</th>\n",
       "      <th>Sex</th>\n",
       "      <th>Age</th>\n",
       "      <th>Siblings/Spouses Aboard</th>\n",
       "      <th>Parents/Children Aboard</th>\n",
       "      <th>Fare in British Pounds</th>\n",
       "    </tr>\n",
       "  </thead>\n",
       "  <tbody>\n",
       "    <tr>\n",
       "      <th>4</th>\n",
       "      <td>0</td>\n",
       "      <td>3</td>\n",
       "      <td>Mr. William Henry Allen</td>\n",
       "      <td>male</td>\n",
       "      <td>35.0</td>\n",
       "      <td>0</td>\n",
       "      <td>0</td>\n",
       "      <td>8.0500</td>\n",
       "    </tr>\n",
       "    <tr>\n",
       "      <th>12</th>\n",
       "      <td>0</td>\n",
       "      <td>3</td>\n",
       "      <td>Mr. William Henry Saundercock</td>\n",
       "      <td>male</td>\n",
       "      <td>20.0</td>\n",
       "      <td>0</td>\n",
       "      <td>0</td>\n",
       "      <td>8.0500</td>\n",
       "    </tr>\n",
       "    <tr>\n",
       "      <th>51</th>\n",
       "      <td>1</td>\n",
       "      <td>1</td>\n",
       "      <td>Mrs. Henry Sleeper (Myna Haxtun) Harper</td>\n",
       "      <td>female</td>\n",
       "      <td>49.0</td>\n",
       "      <td>1</td>\n",
       "      <td>0</td>\n",
       "      <td>76.7292</td>\n",
       "    </tr>\n",
       "    <tr>\n",
       "      <th>61</th>\n",
       "      <td>0</td>\n",
       "      <td>1</td>\n",
       "      <td>Mr. Henry Birkhardt Harris</td>\n",
       "      <td>male</td>\n",
       "      <td>45.0</td>\n",
       "      <td>1</td>\n",
       "      <td>0</td>\n",
       "      <td>83.4750</td>\n",
       "    </tr>\n",
       "    <tr>\n",
       "      <th>158</th>\n",
       "      <td>0</td>\n",
       "      <td>3</td>\n",
       "      <td>Master. Thomas Henry Sage</td>\n",
       "      <td>male</td>\n",
       "      <td>5.0</td>\n",
       "      <td>8</td>\n",
       "      <td>2</td>\n",
       "      <td>69.5500</td>\n",
       "    </tr>\n",
       "  </tbody>\n",
       "</table>\n",
       "</div>"
      ],
      "text/plain": [
       "     Survived  Passenger Class                                     Name  \\\n",
       "4           0                3                  Mr. William Henry Allen   \n",
       "12          0                3            Mr. William Henry Saundercock   \n",
       "51          1                1  Mrs. Henry Sleeper (Myna Haxtun) Harper   \n",
       "61          0                1               Mr. Henry Birkhardt Harris   \n",
       "158         0                3                Master. Thomas Henry Sage   \n",
       "\n",
       "        Sex   Age  Siblings/Spouses Aboard  Parents/Children Aboard  \\\n",
       "4      male  35.0                        0                        0   \n",
       "12     male  20.0                        0                        0   \n",
       "51   female  49.0                        1                        0   \n",
       "61     male  45.0                        1                        0   \n",
       "158    male   5.0                        8                        2   \n",
       "\n",
       "     Fare in British Pounds  \n",
       "4                    8.0500  \n",
       "12                   8.0500  \n",
       "51                  76.7292  \n",
       "61                  83.4750  \n",
       "158                 69.5500  "
      ]
     },
     "execution_count": 26,
     "metadata": {},
     "output_type": "execute_result"
    }
   ],
   "source": [
    "df_d.head()"
   ]
  },
  {
   "cell_type": "code",
   "execution_count": 27,
   "id": "ed057ce5",
   "metadata": {},
   "outputs": [
    {
     "data": {
      "text/plain": [
       "33"
      ]
     },
     "execution_count": 27,
     "metadata": {},
     "output_type": "execute_result"
    }
   ],
   "source": [
    "df_d['Name'].count()"
   ]
  },
  {
   "cell_type": "markdown",
   "id": "3902311e",
   "metadata": {},
   "source": [
    "## Pie Chart - Number of Males and Females"
   ]
  },
  {
   "cell_type": "code",
   "execution_count": 2,
   "id": "088bfb04",
   "metadata": {},
   "outputs": [],
   "source": [
    "import numpy as np\n",
    "import matplotlib.pyplot as plt\n",
    "import seaborn as sns"
   ]
  },
  {
   "cell_type": "code",
   "execution_count": 3,
   "id": "75181d0a",
   "metadata": {},
   "outputs": [],
   "source": [
    "%matplotlib inline"
   ]
  },
  {
   "cell_type": "code",
   "execution_count": 6,
   "id": "34190034",
   "metadata": {
    "scrolled": true
   },
   "outputs": [
    {
     "data": {
      "text/plain": [
       "Text(0.5, 1.0, 'Number of Males and Females')"
      ]
     },
     "execution_count": 6,
     "metadata": {},
     "output_type": "execute_result"
    },
    {
     "data": {
      "image/png": "[encoded data removed]",
      "text/plain": [
       "<Figure size 432x288 with 1 Axes>"
      ]
     },
     "metadata": {},
     "output_type": "display_data"
    }
   ],
   "source": [
    "labels_a = ['Males', 'Females']\n",
    "plt.pie(titanic_df['Sex'].value_counts(), labels = labels_a)\n",
    "plt.title('Number of Males and Females', fontsize=16)"
   ]
  },
  {
   "cell_type": "markdown",
   "id": "e9975e06",
   "metadata": {},
   "source": [
    "## Bar Chart - Count of Male Survivors and Female Survivers"
   ]
  },
  {
   "cell_type": "code",
   "execution_count": 7,
   "id": "fbd7d45d",
   "metadata": {},
   "outputs": [],
   "source": [
    "survived = titanic_df['Survived']==1"
   ]
  },
  {
   "cell_type": "code",
   "execution_count": 8,
   "id": "aec6887f",
   "metadata": {},
   "outputs": [],
   "source": [
    "sex = titanic_df['Sex']"
   ]
  },
  {
   "cell_type": "code",
   "execution_count": 10,
   "id": "995196bd",
   "metadata": {},
   "outputs": [],
   "source": [
    "plot_a = titanic_df.loc[survived & sex, :].value_counts('Sex')"
   ]
  },
  {
   "cell_type": "code",
   "execution_count": 17,
   "id": "f2f1d1bd",
   "metadata": {},
   "outputs": [
    {
     "data": {
      "image/png": "[encoded data removed]",
      "text/plain": [
       "<Figure size 432x288 with 1 Axes>"
      ]
     },
     "metadata": {},
     "output_type": "display_data"
    }
   ],
   "source": [
    "c = ['darkgreen', 'darkblue']\n",
    "plot_a.plot.bar(edgecolor='black', color=c)\n",
    "plt.grid(axis='x')\n",
    "plt.ylabel('Frequency', fontsize=14)\n",
    "plt.xlabel('Sex', fontsize=14)\n",
    "plt.title('Number of Males and Females that Survived', fontsize=16)\n",
    "plt.style.use('ggplot')"
   ]
  },
  {
   "cell_type": "markdown",
   "id": "df1f183f",
   "metadata": {},
   "source": [
    "## Bar Chart - Count of Each Age"
   ]
  },
  {
   "cell_type": "code",
   "execution_count": 23,
   "id": "28da5f47",
   "metadata": {},
   "outputs": [
    {
     "data": {
      "image/png": "[encoded data removed]",
      "text/plain": [
       "<Figure size 648x432 with 1 Axes>"
      ]
     },
     "metadata": {
      "needs_background": "light"
     },
     "output_type": "display_data"
    }
   ],
   "source": [
    "plt.figure(figsize=(9,6))\n",
    "bins = np.arange(80) - 0.5\n",
    "plt.hist(titanic_df['Age'], bins=bins, edgecolor='black', color='darkgreen')\n",
    "plt.xlabel('Age', fontsize=14)\n",
    "plt.ylabel('Frequency', fontsize=14)\n",
    "plt.xlim(left=-1, right=81)\n",
    "plt.title('Count of Each Age', fontsize=16)\n",
    "plt.show()"
   ]
  },
  {
   "cell_type": "markdown",
   "id": "81df877b",
   "metadata": {},
   "source": [
    "## Passenger Class Breakdown"
   ]
  },
  {
   "cell_type": "code",
   "execution_count": 10,
   "id": "910e9a30",
   "metadata": {
    "scrolled": true
   },
   "outputs": [
    {
     "data": {
      "image/png": "[encoded data removed]",
      "text/plain": [
       "<Figure size 432x288 with 1 Axes>"
      ]
     },
     "metadata": {},
     "output_type": "display_data"
    }
   ],
   "source": [
    "labels = ['Third Class', 'First Class', 'Second Class']\n",
    "plt.pie(titanic_df['Passenger Class'].value_counts(), labels = labels, autopct='%1.f%%')\n",
    "plt.title('Passenger Class Breakdown', fontsize=16)\n",
    "plt.style.use('bmh')"
   ]
  },
  {
   "cell_type": "markdown",
   "id": "ce0cdb22",
   "metadata": {},
   "source": [
    "## Age Distribution of First Class Passengers"
   ]
  },
  {
   "cell_type": "code",
   "execution_count": 29,
   "id": "1ea36b7a",
   "metadata": {},
   "outputs": [],
   "source": [
    "plot_b = titanic_df.loc[first_class]"
   ]
  },
  {
   "cell_type": "code",
   "execution_count": 42,
   "id": "ed846f8c",
   "metadata": {},
   "outputs": [
    {
     "data": {
      "image/png": "[encoded data removed]",
      "text/plain": [
       "<Figure size 720x480 with 1 Axes>"
      ]
     },
     "metadata": {},
     "output_type": "display_data"
    }
   ],
   "source": [
    "plt.figure(figsize=(9,6))\n",
    "bins = np.arange(80) - 0.5\n",
    "plt.hist(plot_b['Age'], bins=bins, edgecolor='black', color='darkgreen')\n",
    "plt.ylim(0,10)\n",
    "plt.xlim(-1,81)\n",
    "plt.xticks(np.arange(0,80,5.0))\n",
    "plt.xlabel('Age')\n",
    "plt.ylabel('Count')\n",
    "plt.title('Age Distibution of First Class Passengers', fontsize=16)\n",
    "plt.show()"
   ]
  },
  {
   "cell_type": "markdown",
   "id": "93a71cf0",
   "metadata": {},
   "source": [
    "## Survival Rates per Passenger Class"
   ]
  },
  {
   "cell_type": "code",
   "execution_count": 4,
   "id": "85b6324e",
   "metadata": {},
   "outputs": [],
   "source": [
    "one = titanic_df['Passenger Class']==1"
   ]
  },
  {
   "cell_type": "code",
   "execution_count": 5,
   "id": "7a5cd690",
   "metadata": {},
   "outputs": [],
   "source": [
    "onetot = titanic_df.loc[one]"
   ]
  },
  {
   "cell_type": "code",
   "execution_count": 6,
   "id": "f6d16fc3",
   "metadata": {},
   "outputs": [],
   "source": [
    "one_total = onetot['Survived'].count()"
   ]
  },
  {
   "cell_type": "code",
   "execution_count": 8,
   "id": "e237b61d",
   "metadata": {},
   "outputs": [],
   "source": [
    "ones = onetot['Survived']==1"
   ]
  },
  {
   "cell_type": "code",
   "execution_count": 9,
   "id": "e0427106",
   "metadata": {},
   "outputs": [],
   "source": [
    "onesur = onetot[ones]"
   ]
  },
  {
   "cell_type": "code",
   "execution_count": 10,
   "id": "70bfe072",
   "metadata": {},
   "outputs": [],
   "source": [
    "one_survived = onesur['Survived'].count()"
   ]
  },
  {
   "cell_type": "code",
   "execution_count": 12,
   "id": "c30cc6f2",
   "metadata": {},
   "outputs": [],
   "source": [
    "two = titanic_df['Passenger Class']==2"
   ]
  },
  {
   "cell_type": "code",
   "execution_count": 14,
   "id": "c0f66a23",
   "metadata": {},
   "outputs": [],
   "source": [
    "twotot = titanic_df.loc[two]"
   ]
  },
  {
   "cell_type": "code",
   "execution_count": 15,
   "id": "c779185e",
   "metadata": {},
   "outputs": [],
   "source": [
    "two_total = twotot['Passenger Class'].count()"
   ]
  },
  {
   "cell_type": "code",
   "execution_count": 16,
   "id": "7af69b82",
   "metadata": {},
   "outputs": [],
   "source": [
    "twos = twotot['Survived']==1"
   ]
  },
  {
   "cell_type": "code",
   "execution_count": 17,
   "id": "fc46e1c6",
   "metadata": {},
   "outputs": [],
   "source": [
    "twosur = twotot[twos]"
   ]
  },
  {
   "cell_type": "code",
   "execution_count": 18,
   "id": "bed07ab8",
   "metadata": {},
   "outputs": [],
   "source": [
    "two_survived = twosur['Passenger Class'].count()"
   ]
  },
  {
   "cell_type": "code",
   "execution_count": 19,
   "id": "c13b1b79",
   "metadata": {},
   "outputs": [],
   "source": [
    "three = titanic_df['Passenger Class']==3"
   ]
  },
  {
   "cell_type": "code",
   "execution_count": 21,
   "id": "7a958a81",
   "metadata": {},
   "outputs": [],
   "source": [
    "threetot = titanic_df.loc[three]"
   ]
  },
  {
   "cell_type": "code",
   "execution_count": 22,
   "id": "cbc1e814",
   "metadata": {},
   "outputs": [],
   "source": [
    "three_total = threetot['Passenger Class'].count()"
   ]
  },
  {
   "cell_type": "code",
   "execution_count": 23,
   "id": "3eea3f9c",
   "metadata": {},
   "outputs": [],
   "source": [
    "threes = threetot['Survived']==1"
   ]
  },
  {
   "cell_type": "code",
   "execution_count": 24,
   "id": "9ad0d49a",
   "metadata": {},
   "outputs": [],
   "source": [
    "threesur = threetot[threes]"
   ]
  },
  {
   "cell_type": "code",
   "execution_count": 25,
   "id": "f941ac2b",
   "metadata": {},
   "outputs": [],
   "source": [
    "three_survived = threesur['Passenger Class'].count()"
   ]
  },
  {
   "cell_type": "code",
   "execution_count": 26,
   "id": "6da7be92",
   "metadata": {},
   "outputs": [
    {
     "data": {
      "text/plain": [
       "'62.96'"
      ]
     },
     "execution_count": 26,
     "metadata": {},
     "output_type": "execute_result"
    }
   ],
   "source": [
    "first_class_survival_rate = (one_survived/one_total)*100\n",
    "\"{:.2f}\".format(first_class_survival_rate)"
   ]
  },
  {
   "cell_type": "code",
   "execution_count": 27,
   "id": "2fe9c15b",
   "metadata": {},
   "outputs": [
    {
     "data": {
      "text/plain": [
       "'47.28'"
      ]
     },
     "execution_count": 27,
     "metadata": {},
     "output_type": "execute_result"
    }
   ],
   "source": [
    "second_class_survival_rate = (two_survived/two_total)*100\n",
    "\"{:.2f}\".format(second_class_survival_rate)"
   ]
  },
  {
   "cell_type": "code",
   "execution_count": 28,
   "id": "f25ae8be",
   "metadata": {},
   "outputs": [
    {
     "data": {
      "text/plain": [
       "'24.44'"
      ]
     },
     "execution_count": 28,
     "metadata": {},
     "output_type": "execute_result"
    }
   ],
   "source": [
    "third_class_survival_rate = (three_survived/three_total)*100\n",
    "\"{:.2f}\".format(third_class_survival_rate)"
   ]
  },
  {
   "cell_type": "code",
   "execution_count": 29,
   "id": "f8d697d7",
   "metadata": {},
   "outputs": [
    {
     "data": {
      "text/plain": [
       "Text(0.5, 1.0, 'Survival Rates per Passenger Class')"
      ]
     },
     "execution_count": 29,
     "metadata": {},
     "output_type": "execute_result"
    },
    {
     "data": {
      "image/png": "[encoded data removed]",
      "text/plain": [
       "<Figure size 432x288 with 1 Axes>"
      ]
     },
     "metadata": {
      "needs_background": "light"
     },
     "output_type": "display_data"
    }
   ],
   "source": [
    "classes = ('1st','2nd','3rd')\n",
    "values = (first_class_survival_rate, second_class_survival_rate, third_class_survival_rate)\n",
    "colors = ('blue', 'darkgreen', 'gray')\n",
    "plt.bar(classes, values, color=colors, width=0.5, linewidth=100)\n",
    "plt.ylabel('Survival Rate %', fontsize=14)\n",
    "plt.xlabel('Passenger Class', fontsize=14)\n",
    "plt.title('Survival Rates per Passenger Class', fontsize=16)"
   ]
  },
  {
   "cell_type": "code",
   "execution_count": null,
   "id": "4ba2a27a",
   "metadata": {},
   "outputs": [],
   "source": []
  }
 ],
 "metadata": {
  "kernelspec": {
   "display_name": "Python 3 (ipykernel)",
   "language": "python",
   "name": "python3"
  },
  "language_info": {
   "codemirror_mode": {
    "name": "ipython",
    "version": 3
   },
   "file_extension": ".py",
   "mimetype": "text/x-python",
   "name": "python",
   "nbconvert_exporter": "python",
   "pygments_lexer": "ipython3",
   "version": "3.9.7"
  }
 },
 "nbformat": 4,
 "nbformat_minor": 5
}
